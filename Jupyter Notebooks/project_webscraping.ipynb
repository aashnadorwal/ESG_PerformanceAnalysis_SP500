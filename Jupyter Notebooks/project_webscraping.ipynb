{
 "cells": [
  {
   "cell_type": "markdown",
   "metadata": {},
   "source": [
    "# Web Scraping from SlickCharts\n",
    "Aashna Dorwal\n",
    "\n",
    "https://www.slickcharts.com/sp500/performance"
   ]
  },
  {
   "cell_type": "code",
   "execution_count": 17,
   "metadata": {},
   "outputs": [],
   "source": [
    "import pandas as pd  \n",
    "from selenium import webdriver\n",
    "from selenium.webdriver.chrome.service import Service\n",
    "from selenium.webdriver.common.by import By\n",
    "from selenium.webdriver.chrome.options import Options\n",
    "from webdriver_manager.chrome import ChromeDriverManager\n",
    "import time\n",
    "import random"
   ]
  },
  {
   "cell_type": "code",
   "execution_count": 18,
   "metadata": {},
   "outputs": [
    {
     "data": {
      "text/html": [
       "<div>\n",
       "<style scoped>\n",
       "    .dataframe tbody tr th:only-of-type {\n",
       "        vertical-align: middle;\n",
       "    }\n",
       "\n",
       "    .dataframe tbody tr th {\n",
       "        vertical-align: top;\n",
       "    }\n",
       "\n",
       "    .dataframe thead th {\n",
       "        text-align: right;\n",
       "    }\n",
       "</style>\n",
       "<table border=\"1\" class=\"dataframe\">\n",
       "  <thead>\n",
       "    <tr style=\"text-align: right;\">\n",
       "      <th></th>\n",
       "      <th>Rank</th>\n",
       "      <th>Company</th>\n",
       "      <th>Symbol</th>\n",
       "      <th>YTD Return</th>\n",
       "    </tr>\n",
       "  </thead>\n",
       "  <tbody>\n",
       "    <tr>\n",
       "      <th>0</th>\n",
       "      <td>1</td>\n",
       "      <td>CVS HEALTH CORP</td>\n",
       "      <td>CVS</td>\n",
       "      <td>51.44%</td>\n",
       "    </tr>\n",
       "    <tr>\n",
       "      <th>1</th>\n",
       "      <td>2</td>\n",
       "      <td>PHILIP MORRIS INTERNATIONAL</td>\n",
       "      <td>PM</td>\n",
       "      <td>31.36%</td>\n",
       "    </tr>\n",
       "    <tr>\n",
       "      <th>2</th>\n",
       "      <td>3</td>\n",
       "      <td>NEWMONT CORP</td>\n",
       "      <td>NEM</td>\n",
       "      <td>29.74%</td>\n",
       "    </tr>\n",
       "    <tr>\n",
       "      <th>3</th>\n",
       "      <td>4</td>\n",
       "      <td>AT+T INC</td>\n",
       "      <td>T</td>\n",
       "      <td>25.08%</td>\n",
       "    </tr>\n",
       "    <tr>\n",
       "      <th>4</th>\n",
       "      <td>5</td>\n",
       "      <td>CENCORA INC</td>\n",
       "      <td>COR</td>\n",
       "      <td>23.47%</td>\n",
       "    </tr>\n",
       "  </tbody>\n",
       "</table>\n",
       "</div>"
      ],
      "text/plain": [
       "  Rank                      Company Symbol YTD Return\n",
       "0    1              CVS HEALTH CORP    CVS     51.44%\n",
       "1    2  PHILIP MORRIS INTERNATIONAL     PM     31.36%\n",
       "2    3                 NEWMONT CORP    NEM     29.74%\n",
       "3    4                     AT+T INC      T     25.08%\n",
       "4    5                  CENCORA INC    COR     23.47%"
      ]
     },
     "execution_count": 18,
     "metadata": {},
     "output_type": "execute_result"
    }
   ],
   "source": [
    "chrome_options = Options()\n",
    "chrome_options.add_argument(\"--headless\")\n",
    "\n",
    "service = Service(ChromeDriverManager().install())\n",
    "browser = webdriver.Chrome(service=service, options=chrome_options)\n",
    "\n",
    "url = \"https://www.slickcharts.com/sp500/performance\"\n",
    "browser.get(url)\n",
    "\n",
    "time.sleep(random.uniform(2, 4))\n",
    "rows = browser.find_elements(By.XPATH, \"//table[contains(@class, 'table-hover')]/tbody/tr\")\n",
    "\n",
    "data = []\n",
    "for row in rows:\n",
    "    cells = row.find_elements(By.TAG_NAME, \"td\")\n",
    "    data.append([cell.text.strip() for cell in cells])\n",
    "\n",
    "columns = [\"Rank\", \"Company\", \"Symbol\", \"YTD Return\"]\n",
    "slickcharts_df = pd.DataFrame(data, columns=columns)\n",
    "\n",
    "browser.quit()\n",
    "slickcharts_df.head()"
   ]
  },
  {
   "cell_type": "code",
   "execution_count": 20,
   "metadata": {},
   "outputs": [],
   "source": [
    "slickcharts_df.to_csv(\"sp500_slickcharts.csv\", index=False)"
   ]
  }
 ],
 "metadata": {
  "kernelspec": {
   "display_name": "Python 3",
   "language": "python",
   "name": "python3"
  },
  "language_info": {
   "codemirror_mode": {
    "name": "ipython",
    "version": 3
   },
   "file_extension": ".py",
   "mimetype": "text/x-python",
   "name": "python",
   "nbconvert_exporter": "python",
   "pygments_lexer": "ipython3",
   "version": "3.9.6"
  }
 },
 "nbformat": 4,
 "nbformat_minor": 2
}
